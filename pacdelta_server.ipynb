{
  "nbformat": 4,
  "nbformat_minor": 0,
  "metadata": {
    "colab": {
      "provenance": []
    },
    "kernelspec": {
      "name": "python3",
      "display_name": "Python 3"
    },
    "language_info": {
      "name": "python"
    }
  },
  "cells": [
    {
      "cell_type": "code",
      "source": [
        "!apt install zstd\n",
        "!wget https://github.com/facebook/zstd/releases/download/v1.5.5/zstd-1.5.5.tar.gz -O zstd-1.5.5.tar.gz\n",
        "!tar -xf zstd-1.5.5.tar.gz\n",
        "!cd zstd-1.5.5 && make\n",
        "!mkdir pkgs patches"
      ],
      "metadata": {
        "id": "LwruBOjeZ5fx"
      },
      "execution_count": null,
      "outputs": []
    },
    {
      "cell_type": "code",
      "source": [
        "import subprocess\n",
        "import os\n",
        "def download_pkg(pkg,ver,sig=False):\n",
        "  arch=\"x86_64\"\n",
        "  pkg_file=\"%s-%s-%s.pkg.tar.zst\" % (pkg,ver,arch)\n",
        "  sig_file=\"%s.sig\"%pkg_file\n",
        "  url=\"https://archive.archlinux.org/packages/%s/%s/%s\" % (pkg[0],pkg,pkg_file)\n",
        "  if not os.path.exists(\"pkg/%s\"%pkg_file):\n",
        "    print(subprocess.run([\"wget\", url, \"-O\",\"pkgs/%s\"%(pkg_file)], capture_output=True, text=True).stdout)\n",
        "  if sig and not os.path.exists(\"patches/%s\"%sig_file):\n",
        "     print(subprocess.run([\"wget\", \"%s.sig\"%url, \"-O\",\"patches/%s.sig\"%(pkg_file)], capture_output=True, text=True).stdout)\n",
        "  return \"pkgs/%s\"%(pkg_file)\n",
        "\n",
        "with open(\"update_list.txt\", \"r\") as file:\n",
        "    for delta in file:\n",
        "      pkg,old_ver,_,new_ver=delta.split()\n",
        "      old_zst=download_pkg(pkg,old_ver)\n",
        "      new_zst=download_pkg(pkg,new_ver,True)\n",
        "      patch_file=\"patches/%s.patch\"%delta.strip()\n",
        "      zstd='zstd-1.5.5/zstd'\n",
        "      print(subprocess.run([zstd,\"--patch-from\", old_zst,\"-19\",new_zst,\"-o\",patch_file],\n",
        "                           capture_output=True, text=True).stdout)\n",
        "      print(patch_file)"
      ],
      "metadata": {
        "id": "p0IlDmtpga8S"
      },
      "execution_count": null,
      "outputs": []
    },
    {
      "cell_type": "code",
      "source": [
        "!tar --exclude='patches/intellij-idea-community-edition 4:2023.1.3-1 -> 4:2023.1.4-1.patch'\\\n",
        " --exclude='patches/linux-rt-lts 6.1.33.11.realtime1-1 -> 6.1.38.12.realtime1-2.patch'\\\n",
        " --exclude='patches/linux 6.4.3.arch1-1 -> 6.4.3.arch1-2.patch'\\\n",
        " --exclude='patches/nyxt 3.3.0-1 -> 3.4.0-1.patch'\\\n",
        " -cvzf patches.tar patches/"
      ],
      "metadata": {
        "id": "xuPvpXYBrznC"
      },
      "execution_count": null,
      "outputs": []
    },
    {
      "cell_type": "code",
      "source": [
        "!rm -rf patches\n",
        "!rm -rf pkgs"
      ],
      "metadata": {
        "id": "AsdVZ2CpZzMR"
      },
      "execution_count": null,
      "outputs": []
    },
    {
      "cell_type": "code",
      "source": [
        "!du --human-readable patches.tar"
      ],
      "metadata": {
        "id": "6hmmNxx0BPIg"
      },
      "execution_count": null,
      "outputs": []
    },
    {
      "cell_type": "code",
      "source": [
        "!cp patches.tar drive/MyDrive/"
      ],
      "metadata": {
        "id": "wAkwed6cDtBL"
      },
      "execution_count": null,
      "outputs": []
    }
  ]
}